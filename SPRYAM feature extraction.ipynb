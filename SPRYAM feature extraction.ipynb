{
 "cells": [
  {
   "cell_type": "code",
   "execution_count": null,
   "metadata": {},
   "outputs": [],
   "source": [
    "import pandas as pd\n",
    "import os\n",
    "import librosa\n",
    "import numpy as np\n",
    "\n",
    "# Load the CSV file\n",
    "train_df = pd.read_csv(\"D:\\\\C\\D\\ownloads\\\\MTC-ASR-Dataset-16K\\\\train.csv\")\n",
    "adapt_df = pd.read_csv(\"D:\\\\C\\D\\ownloads\\\\MTC-ASR-Dataset-16K\\\\adapt.csv\")\n",
    "# Remove NaN values from transcripts\n",
    "train_df.dropna(subset=['transcription'], inplace=True)\n",
    "\n",
    "# Function to load audio files\n",
    "def load_audio(file_path, sr=16000):\n",
    "    audio, _ = librosa.load(file_path, sr=sr)\n",
    "    return audio\n",
    "\n",
    "# Load all audio files\n",
    "train_df['audio_data'] = train_df['audio'].apply(lambda x: load_audio(os.path.join(\"D:\\\\C\\D\\ownloads\\\\MTC-ASR-Dataset-16K\\\\train\", f\"{x}.wav\")))\n",
    "# Load all audio files\n",
    "adapt_df['audio_data'] = adapt_df['audio'].apply(lambda x: load_audio(os.path.join(\"D:\\\\C\\D\\ownloads\\\\MTC-ASR-Dataset-16K\\\\adapt\", f\"{x}.wav\")))\n"
   ]
  },
  {
   "cell_type": "code",
   "execution_count": null,
   "metadata": {},
   "outputs": [],
   "source": [
    "def extract_features(audio, sr=16000, n_mfcc=13):\n",
    "    mfccs = librosa.feature.mfcc(y=audio, sr=sr, n_mfcc=n_mfcc)\n",
    "    return mfccs.T\n",
    "\n",
    "# Extract features for all audio files\n",
    "train_df['features'] = train_df['audio_data'].apply(extract_features)\n",
    "adapt_df['features'] = adapt_df['audio_data'].apply(extract_features)\n"
   ]
  },
  {
   "cell_type": "code",
   "execution_count": null,
   "metadata": {},
   "outputs": [],
   "source": [
    "import pickle\n",
    "\n",
    "# Save features and transcripts\n",
    "train_df[['audio', 'features', 'transcription']].to_pickle('train_features.pkl')\n",
    "# Save features and transcripts for adapt\n",
    "adapt_df[['audio', 'features', 'transcription']].to_pickle('adapt_features.pkl')"
   ]
  },
  {
   "cell_type": "code",
   "execution_count": null,
   "metadata": {},
   "outputs": [],
   "source": [
    "test_dir = \"C:\\\\Users\\\\king\\\\Downloads\\\\mct-aic-2\\\\test\"\n",
    "\n",
    "\n",
    "test_files = [f for f in os.listdir(test_dir) if f.endswith('.wav')]\n",
    "test_df = pd.DataFrame({'audio': [os.path.splitext(f)[0] for f in test_files]})\n",
    "test_df['audio_data'] = test_df['audio'].apply(lambda x: load_audio(os.path.join(test_dir, f\"{x}.wav\")))\n",
    "# Extract features for all audio files in test\n",
    "test_df['features'] = test_df['audio_data'].apply(extract_features)\n"
   ]
  },
  {
   "cell_type": "code",
   "execution_count": null,
   "metadata": {},
   "outputs": [],
   "source": [
    "import pickle\n",
    "\n",
    "# Save features and transcripts for train\n",
    "test_df[['audio', 'features']].to_pickle('test_features.pkl')\n"
   ]
  }
 ],
 "metadata": {
  "language_info": {
   "name": "python"
  }
 },
 "nbformat": 4,
 "nbformat_minor": 2
}
